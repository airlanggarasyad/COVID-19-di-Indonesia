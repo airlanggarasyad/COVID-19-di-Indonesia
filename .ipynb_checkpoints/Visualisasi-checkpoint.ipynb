{
 "cells": [
  {
   "cell_type": "markdown",
   "metadata": {},
   "source": [
    "# COVID-19 di +62\n",
    "<font size=\"3\">26 Desember 2020</font>\n",
    "<center><img src=\"https://i.postimg.cc/m2Z50Tzt/Screen-Shot-2020-12-20-at-21-17-41.png\" alt=\"Drawing\" style=\"width: 500px;\"/></center>"
   ]
  },
  {
   "cell_type": "markdown",
   "metadata": {},
   "source": [
    "## Bagian Paling Ngebosenin\n",
    "<div style=\"text-align: justify\"> Isinya cuma import library, mulung data, dan hal-hal ngebosenin lainnya. Disarankan untuk ngeskip bagian ini aja, tapi kalau mau baca yaudah gapapa. </div>"
   ]
  },
  {
   "cell_type": "code",
   "execution_count": 1,
   "metadata": {},
   "outputs": [
    {
     "data": {
      "text/html": [
       "        <script type=\"text/javascript\">\n",
       "        window.PlotlyConfig = {MathJaxConfig: 'local'};\n",
       "        if (window.MathJax) {MathJax.Hub.Config({SVG: {font: \"STIX-Web\"}});}\n",
       "        if (typeof require !== 'undefined') {\n",
       "        require.undef(\"plotly\");\n",
       "        requirejs.config({\n",
       "            paths: {\n",
       "                'plotly': ['https://cdn.plot.ly/plotly-latest.min']\n",
       "            }\n",
       "        });\n",
       "        require(['plotly'], function(Plotly) {\n",
       "            window._Plotly = Plotly;\n",
       "        });\n",
       "        }\n",
       "        </script>\n",
       "        "
      ]
     },
     "metadata": {},
     "output_type": "display_data"
    },
    {
     "data": {
      "text/html": [
       "\n",
       "<style>\n",
       ".output {\n",
       "    display: flex;\n",
       "    align-items: center;\n",
       "    text-align: center;\n",
       "}\n",
       "</style>\n"
      ],
      "text/plain": [
       "<IPython.core.display.HTML object>"
      ]
     },
     "metadata": {},
     "output_type": "display_data"
    }
   ],
   "source": [
    "import json\n",
    "import requests\n",
    "import numpy as np\n",
    "import pandas as pd\n",
    "from plot_funct import *\n",
    "\n",
    "%config InlineBackend.figure_format = 'retina'\n",
    "\n",
    "api = 'https://api.kawalcorona.com/indonesia/provinsi'\n",
    "r = requests.get(api)"
   ]
  },
  {
   "cell_type": "code",
   "execution_count": 2,
   "metadata": {},
   "outputs": [
    {
     "data": {
      "text/html": [
       "<div>\n",
       "<style scoped>\n",
       "    .dataframe tbody tr th:only-of-type {\n",
       "        vertical-align: middle;\n",
       "    }\n",
       "\n",
       "    .dataframe tbody tr th {\n",
       "        vertical-align: top;\n",
       "    }\n",
       "\n",
       "    .dataframe thead th {\n",
       "        text-align: right;\n",
       "    }\n",
       "</style>\n",
       "<table border=\"1\" class=\"dataframe\">\n",
       "  <thead>\n",
       "    <tr style=\"text-align: right;\">\n",
       "      <th></th>\n",
       "      <th>Terkonfirmasi</th>\n",
       "      <th>Sembuh</th>\n",
       "      <th>Aktif</th>\n",
       "      <th>Meninggal</th>\n",
       "    </tr>\n",
       "    <tr>\n",
       "      <th>date</th>\n",
       "      <th></th>\n",
       "      <th></th>\n",
       "      <th></th>\n",
       "      <th></th>\n",
       "    </tr>\n",
       "  </thead>\n",
       "  <tbody>\n",
       "    <tr>\n",
       "      <th>2020-12-26</th>\n",
       "      <td>706837</td>\n",
       "      <td>576693</td>\n",
       "      <td>109150</td>\n",
       "      <td>20994</td>\n",
       "    </tr>\n",
       "  </tbody>\n",
       "</table>\n",
       "</div>"
      ],
      "text/plain": [
       "            Terkonfirmasi  Sembuh   Aktif  Meninggal\n",
       "date                                                \n",
       "2020-12-26         706837  576693  109150      20994"
      ]
     },
     "execution_count": 2,
     "metadata": {},
     "output_type": "execute_result"
    }
   ],
   "source": [
    "api_harian = 'https://data.covid19.go.id/public/api/update.json'\n",
    "r_harian = requests.get(api_harian)\n",
    "\n",
    "raw_data = pd.json_normalize(r_harian.json())['update.harian']\n",
    "kasus_harian = pd.io.json.json_normalize(raw_data[0])\n",
    "\n",
    "kasus_harian.rename(columns = {'key_as_string':'date',\n",
    "                        'jumlah_positif_kum.value':'Terkonfirmasi',\n",
    "                        'jumlah_sembuh_kum.value':'Sembuh',\n",
    "                        'jumlah_meninggal_kum.value':'Meninggal',\n",
    "                        'jumlah_dirawat_kum.value':'Aktif'}, \n",
    "                      inplace = True)\n",
    "\n",
    "kasus_harian['date'] = pd.to_datetime(kasus_harian['date']).dt.date\n",
    "\n",
    "kasus_harian.set_index('date', inplace = True)\n",
    "kasus_harian[['Terkonfirmasi', 'Sembuh', 'Aktif', 'Meninggal']].tail(1)"
   ]
  },
  {
   "cell_type": "code",
   "execution_count": 3,
   "metadata": {},
   "outputs": [
    {
     "data": {
      "text/html": [
       "<div>\n",
       "<style scoped>\n",
       "    .dataframe tbody tr th:only-of-type {\n",
       "        vertical-align: middle;\n",
       "    }\n",
       "\n",
       "    .dataframe tbody tr th {\n",
       "        vertical-align: top;\n",
       "    }\n",
       "\n",
       "    .dataframe thead th {\n",
       "        text-align: right;\n",
       "    }\n",
       "</style>\n",
       "<table border=\"1\" class=\"dataframe\">\n",
       "  <thead>\n",
       "    <tr style=\"text-align: right;\">\n",
       "      <th></th>\n",
       "      <th>Terkonfirmasi</th>\n",
       "      <th>Sembuh</th>\n",
       "      <th>Meninggal</th>\n",
       "      <th>Aktif</th>\n",
       "    </tr>\n",
       "    <tr>\n",
       "      <th>ADM1_EN</th>\n",
       "      <th></th>\n",
       "      <th></th>\n",
       "      <th></th>\n",
       "      <th></th>\n",
       "    </tr>\n",
       "  </thead>\n",
       "  <tbody>\n",
       "    <tr>\n",
       "      <th>ACEH</th>\n",
       "      <td>8698.0</td>\n",
       "      <td>7118.0</td>\n",
       "      <td>358.0</td>\n",
       "      <td>1222.0</td>\n",
       "    </tr>\n",
       "    <tr>\n",
       "      <th>BALI</th>\n",
       "      <td>16881.0</td>\n",
       "      <td>15455.0</td>\n",
       "      <td>497.0</td>\n",
       "      <td>929.0</td>\n",
       "    </tr>\n",
       "    <tr>\n",
       "      <th>BANTEN</th>\n",
       "      <td>17338.0</td>\n",
       "      <td>10143.0</td>\n",
       "      <td>410.0</td>\n",
       "      <td>6785.0</td>\n",
       "    </tr>\n",
       "    <tr>\n",
       "      <th>BENGKULU</th>\n",
       "      <td>3354.0</td>\n",
       "      <td>2327.0</td>\n",
       "      <td>114.0</td>\n",
       "      <td>913.0</td>\n",
       "    </tr>\n",
       "    <tr>\n",
       "      <th>D.I. Yogyakarta</th>\n",
       "      <td>10927.0</td>\n",
       "      <td>7167.0</td>\n",
       "      <td>232.0</td>\n",
       "      <td>3528.0</td>\n",
       "    </tr>\n",
       "  </tbody>\n",
       "</table>\n",
       "</div>"
      ],
      "text/plain": [
       "                 Terkonfirmasi   Sembuh  Meninggal   Aktif\n",
       "ADM1_EN                                                   \n",
       "ACEH                    8698.0   7118.0      358.0  1222.0\n",
       "BALI                   16881.0  15455.0      497.0   929.0\n",
       "BANTEN                 17338.0  10143.0      410.0  6785.0\n",
       "BENGKULU                3354.0   2327.0      114.0   913.0\n",
       "D.I. Yogyakarta        10927.0   7167.0      232.0  3528.0"
      ]
     },
     "execution_count": 3,
     "metadata": {},
     "output_type": "execute_result"
    }
   ],
   "source": [
    "# merge BNPB's data with shp\n",
    "df = pd.io.json.json_normalize(r.json())\n",
    "df['attributes.Provinsi'] = df['attributes.Provinsi'].str.upper()\n",
    "\n",
    "map_df = gpd.read_file(\"./Shape Files/idn_admbnda_adm1_bps_20200401.shp\")\n",
    "map_df['ADM1_EN'] = map_df['ADM1_EN'].str.upper()\n",
    "merged = map_df.set_index('ADM1_EN').join(df.set_index('attributes.Provinsi'))\n",
    "\n",
    "merged.rename(columns = {'attributes.Kasus_Posi':'Terkonfirmasi',\n",
    "                        'attributes.Kasus_Semb':'Sembuh',\n",
    "                        'attributes.Kasus_Meni':'Meninggal'}, \n",
    "              inplace = True)\n",
    "merged.rename(index={'DAERAH ISTIMEWA YOGYAKARTA':'D.I. Yogyakarta'}\n",
    "              ,inplace=True)\n",
    "\n",
    "cases_list = ['Terkonfirmasi', 'Sembuh', 'Meninggal', 'Aktif']\n",
    "\n",
    "merged['Aktif'] = merged['Terkonfirmasi'] - merged['Sembuh'] - merged['Meninggal']\n",
    "merged[cases_list].head()"
   ]
  },
  {
   "cell_type": "code",
   "execution_count": 4,
   "metadata": {},
   "outputs": [],
   "source": [
    "import matplotlib.dates as mdates\n",
    "%matplotlib inline\n",
    "\n",
    "def four_subplot(param, label, color, title):\n",
    "\n",
    "    fig, ax = plt.subplots(2, 2); fig.set_size_inches(14,8)\n",
    "    myFmt = mdates.DateFormatter('%b %Y')\n",
    "    fig.suptitle(title, horizontalalignment='left', x=0, y=1,\n",
    "                 verticalalignment='top', font=sf_med, fontsize = 35)\n",
    "    \n",
    "    for i in range(2):\n",
    "        for j in range(2):\n",
    "            ax[i, j].plot(kasus_harian.index, kasus_harian[param[i][j]], \n",
    "                          color = color[i][j])\n",
    "            ax[i, j].set_ylabel(label[i][j])\n",
    "            ax[i, j].grid('on'); \n",
    "            ax[i, j].xaxis.set_major_formatter(myFmt)\n",
    "            ax[i, j].set_yticklabels(\n",
    "                ['{:,}'.format(int(x)) for x in ax[i,j].get_yticks().tolist()])\n",
    "            \n",
    "    fig.autofmt_xdate(rotation=45)\n",
    "    plt.savefig('Plot/{}.png'.format(title), dpi=300, bbox_inches='tight'); \n",
    "    plt.close()"
   ]
  },
  {
   "cell_type": "code",
   "execution_count": 5,
   "metadata": {},
   "outputs": [],
   "source": [
    "label = [['Terkonfirmasi', 'Dirawat'], ['Meninggal', 'Sembuh']]\n",
    "color = [['#007aff', '#ffcc00'], ['#ff3b30', '#28cd41']]\n",
    "\n",
    "kumultatif_param = [['Terkonfirmasi', 'Aktif'], \n",
    "                ['Meninggal', 'Sembuh']]\n",
    "\n",
    "four_subplot(kumultatif_param, label, color, 'Kasus Harian Kumultatif')"
   ]
  },
  {
   "cell_type": "markdown",
   "metadata": {},
   "source": [
    "<center><img src=\"Plot/Kasus Harian Kumultatif.png\" align=\"left\" width=\"720\"/></center>"
   ]
  },
  {
   "cell_type": "code",
   "execution_count": 28,
   "metadata": {},
   "outputs": [],
   "source": [
    "date_format = mdates.DateFormatter('%d %b')\n",
    "kasus_7_hari = kasus_harian[-7:]\n",
    "title = 'Persebaran Kasus Selama 7 Hari Terakhir'\n",
    "fig, ax = plt.subplots()\n",
    "\n",
    "fig.set_size_inches(14,8)\n",
    "fig.suptitle(title, horizontalalignment='left', x=0.13, y=1,\n",
    "                 verticalalignment='top', font=sf_med, fontsize = 35)\n",
    "\n",
    "ax.bar(kasus_7_hari.index, kasus_7_hari.Sembuh, label = 'Sembuh',\n",
    "      color = '#28cd41')\n",
    "ax.bar(kasus_7_hari.index, kasus_7_hari.Meninggal, label = 'Meninggal', \n",
    "       bottom = kasus_7_hari.Sembuh, color = '#ff3b30')\n",
    "ax.bar(kasus_7_hari.index, kasus_7_hari.Aktif, label = 'Kasus Aktif', \n",
    "       bottom = kasus_7_hari.Sembuh + kasus_7_hari.Meninggal,\n",
    "      color = '#ffcc00')\n",
    "ax.grid('on'); ax.set_axisbelow(True); ax.legend(fontsize = 12)\n",
    "ax.xaxis.set_major_formatter(date_format)\n",
    "\n",
    "plt.savefig('Plot/Seminggu.png', dpi=300, bbox_inches='tight'); \n",
    "plt.close()"
   ]
  },
  {
   "cell_type": "markdown",
   "metadata": {},
   "source": [
    "<center><img src=\"Plot/Seminggu.png\" align=\"left\" width=\"720\"/></center>"
   ]
  },
  {
   "cell_type": "code",
   "execution_count": 6,
   "metadata": {},
   "outputs": [],
   "source": [
    "g = lambda x: eval(r\"merged['{}'].sum()\".format(x))\n",
    "h = (lambda x: '{} ({}%)'.format(label_parameter[x], \n",
    "                                 round(slices[x]/sum(slices)*100, 1)))\n",
    "\n",
    "slices = [g(k) for k in cases_list][1:]\n",
    "label_parameter = ['Sembuh', 'Meninggal', 'Aktif']\n",
    "labels = [h(x) for x in range(len(slices))]\n",
    "\n",
    "\n",
    "plt.pie(slices, labels = labels, textprops={'fontsize': 14}, \n",
    "        colors = ['#28cd41','#ff3b30','#ffcc00'])\n",
    "fig = plt.gcf()\n",
    "fig.set_size_inches(6.5,6.5)\n",
    "plt.savefig('Plot/pie.png', dpi = 300, bbox_inches='tight')\n",
    "plt.close()"
   ]
  },
  {
   "cell_type": "markdown",
   "metadata": {},
   "source": [
    "## Persebaran Kasus Hari Ini\n",
    "<center><img src=\"Plot/pie.png\" align=\"center\" width=\"400\"/></center>"
   ]
  },
  {
   "cell_type": "code",
   "execution_count": 7,
   "metadata": {},
   "outputs": [],
   "source": [
    "blue = make_colormap([c('#e5f1ff'), c('#83b8ff'), 0.33, c('#83b8ff'), \n",
    "                      c('#007aff'), 0.66, c('#007aff')])\n",
    "terkonfirmasi_sorted = merged.sort_values(by = ['Terkonfirmasi'], ascending = True)\n",
    "\n",
    "chloropleth(terkonfirmasi_sorted, blue, 'Terkonfirmasi', 'Terkonfirmasi'); plt.close()\n",
    "top10_plot(terkonfirmasi_sorted[-10:], 'Terkonfirmasi', '#0A84FF', 'Top 10 Terkonfirmasi Tertinggi')\n",
    "plt.close()\n",
    "top10_plot(terkonfirmasi_sorted[:10], 'Terkonfirmasi', '#0A84FF', 'Top 10 Terkonfirmasi Terendah')\n",
    "plt.close()"
   ]
  },
  {
   "cell_type": "markdown",
   "metadata": {},
   "source": [
    "## Terkonfirmasi\n",
    "<img src=\"Plot/Terkonfirmasi_choro.png\" align=\"left\" width=\"580\"/>"
   ]
  },
  {
   "cell_type": "markdown",
   "metadata": {},
   "source": [
    "<img src=\"Plot/Top 10 Terkonfirmasi Tertinggi_bar.png\" align=\"left\" width=\"290\"/><img src=\"Plot/Top 10 Terkonfirmasi Terendah_bar.png\" align=\"left\" width=\"290\"/>"
   ]
  },
  {
   "cell_type": "code",
   "execution_count": 8,
   "metadata": {},
   "outputs": [],
   "source": [
    "yellow = make_colormap([c('#fff7c6'), c('#fde378'), 0.33, c('#fde378'), c('#ffcc00'), 0.66, c('#ffcc00')])\n",
    "aktif_sorted = merged.sort_values(by = ['Aktif'], ascending = True)\n",
    "\n",
    "chloropleth(aktif_sorted, yellow, 'Kasus Aktif', 'Aktif'); plt.close()\n",
    "top10_plot(aktif_sorted[-10:], 'Aktif', '#ffcc00', 'Top 10 Kasus Aktif Tertinggi')\n",
    "plt.close()\n",
    "top10_plot(aktif_sorted[:10], 'Aktif', '#ffcc00', 'Top 10 Kasus Aktif Terendah')\n",
    "plt.close()"
   ]
  },
  {
   "cell_type": "markdown",
   "metadata": {},
   "source": [
    "## Aktif\n",
    "<img src=\"Plot/Aktif_choro.png\" align=\"left\" width=\"580\"/>"
   ]
  },
  {
   "cell_type": "markdown",
   "metadata": {},
   "source": [
    "<img src=\"Plot/Top 10 Kasus Aktif Tertinggi_bar.png\" align=\"left\" width=\"290\"/><img src=\"Plot/Top 10 Kasus Aktif Terendah_bar.png\" align=\"left\" width=\"290\"/>"
   ]
  },
  {
   "cell_type": "code",
   "execution_count": 9,
   "metadata": {},
   "outputs": [],
   "source": [
    "green = make_colormap([c('#c4f6cc'), c('#81e38b'), 0.33, c('#81e38b'), \n",
    "                       c('#28cd41'), 0.66, c('#28cd41')])\n",
    "sembuh_sorted = merged.sort_values(by = ['Sembuh'], ascending = True)\n",
    "\n",
    "chloropleth(sembuh_sorted, green, 'Sembuh', 'Sembuh'); plt.close()\n",
    "top10_plot(sembuh_sorted[-10:], 'Sembuh', '#28cd41', \n",
    "           'Top 10 Tingkat Kesembuhan Tertinggi')\n",
    "plt.close()\n",
    "top10_plot(sembuh_sorted[:10], 'Sembuh', '#28cd41', \n",
    "           'Top 10 Tingkat Kesembuhan Terendah')\n",
    "plt.close()"
   ]
  },
  {
   "cell_type": "markdown",
   "metadata": {},
   "source": [
    "## Sembuh\n",
    "<img src=\"Plot/Sembuh_choro.png\" align=\"left\" width=\"580\"/>"
   ]
  },
  {
   "cell_type": "markdown",
   "metadata": {},
   "source": [
    "<img src=\"Plot/Top 10 Tingkat Kesembuhan Tertinggi_bar.png\" align=\"left\" width=\"290\"/><img src=\"Plot/Top 10 Tingkat Kesembuhan Terendah_bar.png\" align=\"left\" width=\"290\"/>"
   ]
  },
  {
   "cell_type": "code",
   "execution_count": 10,
   "metadata": {},
   "outputs": [],
   "source": [
    "red = make_colormap([c('#fddedd'), c('#ff948b'), 0.33, c('#ff948b'), \n",
    "                     c('#ff3b30'), 0.66, c('#ff3b30')])\n",
    "meninggal_sorted = merged.sort_values(by = ['Meninggal'], ascending = True)\n",
    "\n",
    "chloropleth(meninggal_sorted, red, 'Meninggal', 'Meninggal'); plt.close()\n",
    "top10_plot(meninggal_sorted[-10:], 'Meninggal', '#ff3b30', \n",
    "           'Top 10 Tingkat Kematian Tertinggi')\n",
    "plt.close()\n",
    "top10_plot(meninggal_sorted[:10], 'Meninggal', '#ff3b30', \n",
    "           'Top 10 Tingkat Kematian Terendah')\n",
    "plt.close()"
   ]
  },
  {
   "cell_type": "markdown",
   "metadata": {},
   "source": [
    "## Meninggal\n",
    "<img src=\"Plot/Meninggal_choro.png\" align=\"left\" width=\"580\"/>"
   ]
  },
  {
   "cell_type": "markdown",
   "metadata": {},
   "source": [
    "<img src=\"Plot/Top 10 Tingkat Kematian Tertinggi_bar.png\" align=\"left\" width=\"290\"/><img src=\"Plot/Top 10 Tingkat Kematian Terendah_bar.png\" align=\"left\" width=\"290\"/>"
   ]
  },
  {
   "cell_type": "code",
   "execution_count": 5,
   "metadata": {},
   "outputs": [
    {
     "data": {
      "text/html": [
       "<div>\n",
       "<style scoped>\n",
       "    .dataframe tbody tr th:only-of-type {\n",
       "        vertical-align: middle;\n",
       "    }\n",
       "\n",
       "    .dataframe tbody tr th {\n",
       "        vertical-align: top;\n",
       "    }\n",
       "\n",
       "    .dataframe thead th {\n",
       "        text-align: right;\n",
       "    }\n",
       "</style>\n",
       "<table border=\"1\" class=\"dataframe\">\n",
       "  <thead>\n",
       "    <tr style=\"text-align: right;\">\n",
       "      <th></th>\n",
       "      <th>key</th>\n",
       "      <th>doc_count</th>\n",
       "      <th>jumlah_meninggal.value</th>\n",
       "      <th>jumlah_sembuh.value</th>\n",
       "      <th>jumlah_positif.value</th>\n",
       "      <th>jumlah_dirawat.value</th>\n",
       "      <th>Terkonfirmasi</th>\n",
       "      <th>Sembuh</th>\n",
       "      <th>Meninggal</th>\n",
       "      <th>Aktif</th>\n",
       "    </tr>\n",
       "    <tr>\n",
       "      <th>date</th>\n",
       "      <th></th>\n",
       "      <th></th>\n",
       "      <th></th>\n",
       "      <th></th>\n",
       "      <th></th>\n",
       "      <th></th>\n",
       "      <th></th>\n",
       "      <th></th>\n",
       "      <th></th>\n",
       "      <th></th>\n",
       "    </tr>\n",
       "  </thead>\n",
       "  <tbody>\n",
       "    <tr>\n",
       "      <th>2020-12-20</th>\n",
       "      <td>1608422400000</td>\n",
       "      <td>1</td>\n",
       "      <td>221</td>\n",
       "      <td>5551</td>\n",
       "      <td>6982</td>\n",
       "      <td>1210</td>\n",
       "      <td>664930</td>\n",
       "      <td>541811</td>\n",
       "      <td>19880</td>\n",
       "      <td>103239</td>\n",
       "    </tr>\n",
       "    <tr>\n",
       "      <th>2020-12-21</th>\n",
       "      <td>1608508800000</td>\n",
       "      <td>1</td>\n",
       "      <td>205</td>\n",
       "      <td>5073</td>\n",
       "      <td>6848</td>\n",
       "      <td>1570</td>\n",
       "      <td>671778</td>\n",
       "      <td>546884</td>\n",
       "      <td>20085</td>\n",
       "      <td>104809</td>\n",
       "    </tr>\n",
       "    <tr>\n",
       "      <th>2020-12-22</th>\n",
       "      <td>1608595200000</td>\n",
       "      <td>1</td>\n",
       "      <td>172</td>\n",
       "      <td>5838</td>\n",
       "      <td>6347</td>\n",
       "      <td>337</td>\n",
       "      <td>678125</td>\n",
       "      <td>552722</td>\n",
       "      <td>20257</td>\n",
       "      <td>105146</td>\n",
       "    </tr>\n",
       "    <tr>\n",
       "      <th>2020-12-23</th>\n",
       "      <td>1608681600000</td>\n",
       "      <td>1</td>\n",
       "      <td>151</td>\n",
       "      <td>5981</td>\n",
       "      <td>7514</td>\n",
       "      <td>1382</td>\n",
       "      <td>685639</td>\n",
       "      <td>558703</td>\n",
       "      <td>20408</td>\n",
       "      <td>106528</td>\n",
       "    </tr>\n",
       "    <tr>\n",
       "      <th>2020-12-24</th>\n",
       "      <td>1608768000000</td>\n",
       "      <td>1</td>\n",
       "      <td>181</td>\n",
       "      <td>5277</td>\n",
       "      <td>7199</td>\n",
       "      <td>1741</td>\n",
       "      <td>692838</td>\n",
       "      <td>563980</td>\n",
       "      <td>20589</td>\n",
       "      <td>108269</td>\n",
       "    </tr>\n",
       "    <tr>\n",
       "      <th>2020-12-25</th>\n",
       "      <td>1608854400000</td>\n",
       "      <td>1</td>\n",
       "      <td>258</td>\n",
       "      <td>6324</td>\n",
       "      <td>7259</td>\n",
       "      <td>677</td>\n",
       "      <td>700097</td>\n",
       "      <td>570304</td>\n",
       "      <td>20847</td>\n",
       "      <td>108946</td>\n",
       "    </tr>\n",
       "    <tr>\n",
       "      <th>2020-12-26</th>\n",
       "      <td>1608940800000</td>\n",
       "      <td>1</td>\n",
       "      <td>147</td>\n",
       "      <td>6389</td>\n",
       "      <td>6740</td>\n",
       "      <td>204</td>\n",
       "      <td>706837</td>\n",
       "      <td>576693</td>\n",
       "      <td>20994</td>\n",
       "      <td>109150</td>\n",
       "    </tr>\n",
       "  </tbody>\n",
       "</table>\n",
       "</div>"
      ],
      "text/plain": [
       "                      key  doc_count  jumlah_meninggal.value  \\\n",
       "date                                                           \n",
       "2020-12-20  1608422400000          1                     221   \n",
       "2020-12-21  1608508800000          1                     205   \n",
       "2020-12-22  1608595200000          1                     172   \n",
       "2020-12-23  1608681600000          1                     151   \n",
       "2020-12-24  1608768000000          1                     181   \n",
       "2020-12-25  1608854400000          1                     258   \n",
       "2020-12-26  1608940800000          1                     147   \n",
       "\n",
       "            jumlah_sembuh.value  jumlah_positif.value  jumlah_dirawat.value  \\\n",
       "date                                                                          \n",
       "2020-12-20                 5551                  6982                  1210   \n",
       "2020-12-21                 5073                  6848                  1570   \n",
       "2020-12-22                 5838                  6347                   337   \n",
       "2020-12-23                 5981                  7514                  1382   \n",
       "2020-12-24                 5277                  7199                  1741   \n",
       "2020-12-25                 6324                  7259                   677   \n",
       "2020-12-26                 6389                  6740                   204   \n",
       "\n",
       "            Terkonfirmasi  Sembuh  Meninggal   Aktif  \n",
       "date                                                  \n",
       "2020-12-20         664930  541811      19880  103239  \n",
       "2020-12-21         671778  546884      20085  104809  \n",
       "2020-12-22         678125  552722      20257  105146  \n",
       "2020-12-23         685639  558703      20408  106528  \n",
       "2020-12-24         692838  563980      20589  108269  \n",
       "2020-12-25         700097  570304      20847  108946  \n",
       "2020-12-26         706837  576693      20994  109150  "
      ]
     },
     "execution_count": 5,
     "metadata": {},
     "output_type": "execute_result"
    }
   ],
   "source": [
    "kasus_harian[-7:]"
   ]
  },
  {
   "cell_type": "code",
   "execution_count": null,
   "metadata": {},
   "outputs": [],
   "source": []
  }
 ],
 "metadata": {
  "kernelspec": {
   "display_name": "Python 3",
   "language": "python",
   "name": "python3"
  },
  "language_info": {
   "codemirror_mode": {
    "name": "ipython",
    "version": 3
   },
   "file_extension": ".py",
   "mimetype": "text/x-python",
   "name": "python",
   "nbconvert_exporter": "python",
   "pygments_lexer": "ipython3",
   "version": "3.8.5"
  }
 },
 "nbformat": 4,
 "nbformat_minor": 4
}
