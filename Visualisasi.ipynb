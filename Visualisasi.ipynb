{
 "cells": [
  {
   "cell_type": "markdown",
   "metadata": {},
   "source": [
    "# COVID-19 di +62\n",
    "<font size=\"3\">31 Desember 2020</font>\n",
    "<center><img src=\"https://i.postimg.cc/m2Z50Tzt/Screen-Shot-2020-12-20-at-21-17-41.png\" alt=\"Drawing\" style=\"width: 500px;\"/></center>"
   ]
  },
  {
   "cell_type": "markdown",
   "metadata": {},
   "source": [
    "## Bagian Paling Ngebosenin\n",
    "<div style=\"text-align: justify\"> Isinya cuma import library, mulung data, dan hal-hal ngebosenin lainnya. Disarankan untuk ngeskip bagian ini aja, tapi kalau mau baca yaudah gapapa. </div>"
   ]
  },
  {
   "cell_type": "code",
   "execution_count": 1,
   "metadata": {},
   "outputs": [
    {
     "data": {
      "text/html": [
       "        <script type=\"text/javascript\">\n",
       "        window.PlotlyConfig = {MathJaxConfig: 'local'};\n",
       "        if (window.MathJax) {MathJax.Hub.Config({SVG: {font: \"STIX-Web\"}});}\n",
       "        if (typeof require !== 'undefined') {\n",
       "        require.undef(\"plotly\");\n",
       "        requirejs.config({\n",
       "            paths: {\n",
       "                'plotly': ['https://cdn.plot.ly/plotly-latest.min']\n",
       "            }\n",
       "        });\n",
       "        require(['plotly'], function(Plotly) {\n",
       "            window._Plotly = Plotly;\n",
       "        });\n",
       "        }\n",
       "        </script>\n",
       "        "
      ]
     },
     "metadata": {},
     "output_type": "display_data"
    },
    {
     "data": {
      "text/html": [
       "\n",
       "<style>\n",
       ".output {\n",
       "    display: flex;\n",
       "    align-items: center;\n",
       "    text-align: center;\n",
       "}\n",
       "</style>\n"
      ],
      "text/plain": [
       "<IPython.core.display.HTML object>"
      ]
     },
     "metadata": {},
     "output_type": "display_data"
    }
   ],
   "source": [
    "import json\n",
    "import requests\n",
    "import numpy as np\n",
    "import pandas as pd\n",
    "from plot_funct import *\n",
    "from IPython.display import HTML\n",
    "\n",
    "%config InlineBackend.figure_format = 'retina'\n",
    "\n",
    "api = 'https://api.kawalcorona.com/indonesia/provinsi'\n",
    "r = requests.get(api)"
   ]
  },
  {
   "cell_type": "code",
   "execution_count": 2,
   "metadata": {},
   "outputs": [
    {
     "data": {
      "text/html": [
       "<div>\n",
       "<style scoped>\n",
       "    .dataframe tbody tr th:only-of-type {\n",
       "        vertical-align: middle;\n",
       "    }\n",
       "\n",
       "    .dataframe tbody tr th {\n",
       "        vertical-align: top;\n",
       "    }\n",
       "\n",
       "    .dataframe thead th {\n",
       "        text-align: right;\n",
       "    }\n",
       "</style>\n",
       "<table border=\"1\" class=\"dataframe\">\n",
       "  <thead>\n",
       "    <tr style=\"text-align: right;\">\n",
       "      <th></th>\n",
       "      <th>Terkonfirmasi</th>\n",
       "      <th>Sembuh</th>\n",
       "      <th>Aktif</th>\n",
       "      <th>Meninggal</th>\n",
       "    </tr>\n",
       "    <tr>\n",
       "      <th>date</th>\n",
       "      <th></th>\n",
       "      <th></th>\n",
       "      <th></th>\n",
       "      <th></th>\n",
       "    </tr>\n",
       "  </thead>\n",
       "  <tbody>\n",
       "    <tr>\n",
       "      <th>2020-12-30</th>\n",
       "      <td>735124</td>\n",
       "      <td>603741</td>\n",
       "      <td>109439</td>\n",
       "      <td>21944</td>\n",
       "    </tr>\n",
       "  </tbody>\n",
       "</table>\n",
       "</div>"
      ],
      "text/plain": [
       "            Terkonfirmasi  Sembuh   Aktif  Meninggal\n",
       "date                                                \n",
       "2020-12-30         735124  603741  109439      21944"
      ]
     },
     "execution_count": 2,
     "metadata": {},
     "output_type": "execute_result"
    }
   ],
   "source": [
    "api_harian = 'https://data.covid19.go.id/public/api/update.json'\n",
    "r_harian = requests.get(api_harian)\n",
    "\n",
    "raw_data = pd.json_normalize(r_harian.json())['update.harian']\n",
    "kasus_harian = pd.io.json.json_normalize(raw_data[0])\n",
    "\n",
    "kasus_harian.rename(columns = {'key_as_string':'date',\n",
    "                        'jumlah_positif_kum.value':'Terkonfirmasi',\n",
    "                        'jumlah_sembuh_kum.value':'Sembuh',\n",
    "                        'jumlah_meninggal_kum.value':'Meninggal',\n",
    "                        'jumlah_dirawat_kum.value':'Aktif'}, \n",
    "                      inplace = True)\n",
    "\n",
    "kasus_harian['date'] = pd.to_datetime(kasus_harian['date']).dt.date\n",
    "\n",
    "kasus_harian.set_index('date', inplace = True)\n",
    "kasus_harian[['Terkonfirmasi', 'Sembuh', 'Aktif', 'Meninggal']].tail(1)"
   ]
  },
  {
   "cell_type": "code",
   "execution_count": 3,
   "metadata": {},
   "outputs": [
    {
     "data": {
      "text/html": [
       "<div>\n",
       "<style scoped>\n",
       "    .dataframe tbody tr th:only-of-type {\n",
       "        vertical-align: middle;\n",
       "    }\n",
       "\n",
       "    .dataframe tbody tr th {\n",
       "        vertical-align: top;\n",
       "    }\n",
       "\n",
       "    .dataframe thead th {\n",
       "        text-align: right;\n",
       "    }\n",
       "</style>\n",
       "<table border=\"1\" class=\"dataframe\">\n",
       "  <thead>\n",
       "    <tr style=\"text-align: right;\">\n",
       "      <th></th>\n",
       "      <th>Terkonfirmasi</th>\n",
       "      <th>Sembuh</th>\n",
       "      <th>Meninggal</th>\n",
       "      <th>Aktif</th>\n",
       "    </tr>\n",
       "    <tr>\n",
       "      <th>ADM1_EN</th>\n",
       "      <th></th>\n",
       "      <th></th>\n",
       "      <th></th>\n",
       "      <th></th>\n",
       "    </tr>\n",
       "  </thead>\n",
       "  <tbody>\n",
       "    <tr>\n",
       "      <th>ACEH</th>\n",
       "      <td>7862.0</td>\n",
       "      <td>6265.0</td>\n",
       "      <td>282.0</td>\n",
       "      <td>1315.0</td>\n",
       "    </tr>\n",
       "    <tr>\n",
       "      <th>BALI</th>\n",
       "      <td>12631.0</td>\n",
       "      <td>11530.0</td>\n",
       "      <td>403.0</td>\n",
       "      <td>698.0</td>\n",
       "    </tr>\n",
       "    <tr>\n",
       "      <th>BANTEN</th>\n",
       "      <td>10831.0</td>\n",
       "      <td>8153.0</td>\n",
       "      <td>298.0</td>\n",
       "      <td>2380.0</td>\n",
       "    </tr>\n",
       "    <tr>\n",
       "      <th>BENGKULU</th>\n",
       "      <td>1392.0</td>\n",
       "      <td>1046.0</td>\n",
       "      <td>60.0</td>\n",
       "      <td>286.0</td>\n",
       "    </tr>\n",
       "    <tr>\n",
       "      <th>D.I. Yogyakarta</th>\n",
       "      <td>4511.0</td>\n",
       "      <td>3620.0</td>\n",
       "      <td>111.0</td>\n",
       "      <td>780.0</td>\n",
       "    </tr>\n",
       "  </tbody>\n",
       "</table>\n",
       "</div>"
      ],
      "text/plain": [
       "                 Terkonfirmasi   Sembuh  Meninggal   Aktif\n",
       "ADM1_EN                                                   \n",
       "ACEH                    7862.0   6265.0      282.0  1315.0\n",
       "BALI                   12631.0  11530.0      403.0   698.0\n",
       "BANTEN                 10831.0   8153.0      298.0  2380.0\n",
       "BENGKULU                1392.0   1046.0       60.0   286.0\n",
       "D.I. Yogyakarta         4511.0   3620.0      111.0   780.0"
      ]
     },
     "execution_count": 3,
     "metadata": {},
     "output_type": "execute_result"
    }
   ],
   "source": [
    "# merge BNPB's data with shp\n",
    "df = pd.io.json.json_normalize(r.json())\n",
    "df['attributes.Provinsi'] = df['attributes.Provinsi'].str.upper()\n",
    "\n",
    "map_df = gpd.read_file(\"./Shape Files/idn_admbnda_adm1_bps_20200401.shp\")\n",
    "map_df['ADM1_EN'] = map_df['ADM1_EN'].str.upper()\n",
    "merged = map_df.set_index('ADM1_EN').join(df.set_index('attributes.Provinsi'))\n",
    "\n",
    "merged.rename(columns = {'attributes.Kasus_Posi':'Terkonfirmasi',\n",
    "                        'attributes.Kasus_Semb':'Sembuh',\n",
    "                        'attributes.Kasus_Meni':'Meninggal'}, \n",
    "              inplace = True)\n",
    "merged.rename(index={'DAERAH ISTIMEWA YOGYAKARTA':'D.I. Yogyakarta'}\n",
    "              ,inplace=True)\n",
    "\n",
    "cases_list = ['Terkonfirmasi', 'Sembuh', 'Meninggal', 'Aktif']\n",
    "\n",
    "merged['Aktif'] = merged['Terkonfirmasi'] - merged['Sembuh'] - merged['Meninggal']\n",
    "merged[cases_list].head()"
   ]
  },
  {
   "cell_type": "code",
   "execution_count": 4,
   "metadata": {},
   "outputs": [],
   "source": [
    "import matplotlib.dates as mdates\n",
    "%matplotlib inline\n",
    "\n",
    "def four_subplot(param, label, color, title):\n",
    "\n",
    "    fig, ax = plt.subplots(2, 2); fig.set_size_inches(14,8)\n",
    "    myFmt = mdates.DateFormatter('%b %Y')\n",
    "    fig.suptitle(title, horizontalalignment='left', x=0.05, y=0.95,\n",
    "                 verticalalignment='top', font=sf_med, fontsize = 35)\n",
    "    \n",
    "    for i in range(2):\n",
    "        for j in range(2):\n",
    "            ax[i, j].plot(kasus_harian.index, kasus_harian[param[i][j]], \n",
    "                          color = color[i][j])\n",
    "            ax[i, j].set_ylabel(label[i][j])\n",
    "            ax[i, j].grid('on'); \n",
    "            ax[i, j].xaxis.set_major_formatter(myFmt)\n",
    "            ax[i, j].set_yticklabels(\n",
    "                ['{:,}'.format(int(x)) for x in ax[i,j].get_yticks().tolist()])\n",
    "            \n",
    "    fig.autofmt_xdate(rotation=45)\n",
    "    plt.savefig('Plot/{}.png'.format(title), dpi=300, bbox_inches='tight'); \n",
    "    plt.close()"
   ]
  },
  {
   "cell_type": "code",
   "execution_count": 5,
   "metadata": {},
   "outputs": [],
   "source": [
    "label = [['Terkonfirmasi', 'Dirawat'], ['Meninggal', 'Sembuh']]\n",
    "color = [['#007aff', '#ffcc00'], ['#ff3b30', '#28cd41']]\n",
    "\n",
    "kumultatif_param = [['Terkonfirmasi', 'Aktif'], \n",
    "                ['Meninggal', 'Sembuh']]\n",
    "\n",
    "four_subplot(kumultatif_param, label, color, 'Kasus Harian Kumultatif')"
   ]
  },
  {
   "cell_type": "markdown",
   "metadata": {},
   "source": [
    "<center><img src=\"Plot/Kasus Harian Kumultatif.png\" align=\"left\" width=\"720\"/></center>"
   ]
  },
  {
   "cell_type": "code",
   "execution_count": 6,
   "metadata": {},
   "outputs": [],
   "source": [
    "def change_plot(var, ylab, color):\n",
    "    date_format = mdates.DateFormatter('%b')\n",
    "    title = 'Perubahan Harian'\n",
    "    fig, ax = plt.subplots()\n",
    "\n",
    "    fig.set_size_inches(14,8)\n",
    "    fig.suptitle(title, horizontalalignment='left', x=0.066, y=0.95,\n",
    "                     verticalalignment='top', font=sf_med, fontsize = 35)\n",
    "\n",
    "    ax.plot(kasus_harian.index, kasus_harian[var], color = color)\n",
    "    ax.grid('on'); ax.set_axisbelow(True);ax.set_ylabel(ylab, fontsize=15)\n",
    "    ax.xaxis.set_major_formatter(date_format)\n",
    "\n",
    "    plt.savefig('Plot/{}.png'.format(ylab), dpi=300, bbox_inches='tight'); \n",
    "    plt.close()"
   ]
  },
  {
   "cell_type": "code",
   "execution_count": 7,
   "metadata": {},
   "outputs": [],
   "source": [
    "change_plot('Aktif', 'Kasus Aktif', '#ffcc00')"
   ]
  },
  {
   "cell_type": "markdown",
   "metadata": {},
   "source": [
    "<center><img src=\"Plot/Kasus Aktif.png\" align=\"left\" width=\"720\"/></center>"
   ]
  },
  {
   "cell_type": "markdown",
   "metadata": {},
   "source": [
    "Terlihat bahwa jumlah pasien yang masih dalam perawatan masih meningkat"
   ]
  },
  {
   "cell_type": "code",
   "execution_count": 8,
   "metadata": {},
   "outputs": [],
   "source": [
    "change_plot('jumlah_sembuh.value', 'Sembuh', '#28cd41')"
   ]
  },
  {
   "cell_type": "markdown",
   "metadata": {},
   "source": [
    "<center><img src=\"Plot/Sembuh.png\" align=\"left\" width=\"720\"/></center>"
   ]
  },
  {
   "cell_type": "markdown",
   "metadata": {},
   "source": [
    "Terlihat bahwa jumlah pasien yang sembuh menunjukkan tren positif."
   ]
  },
  {
   "cell_type": "code",
   "execution_count": 9,
   "metadata": {},
   "outputs": [],
   "source": [
    "change_plot('jumlah_meninggal.value', 'Meninggal', '#ff3b30')"
   ]
  },
  {
   "cell_type": "markdown",
   "metadata": {},
   "source": [
    "<center><img src=\"Plot/Meninggal.png\" align=\"left\" width=\"720\"/></center>"
   ]
  },
  {
   "cell_type": "markdown",
   "metadata": {},
   "source": [
    "<p align=\"justify\">\n",
    "Meskipun <i>fatality rate</i> kita di bawah 3%, namun dari grafik terlihat bahwa jumlah pasien yang meninggal dunia masih meningkat.\n",
    "</p>"
   ]
  },
  {
   "cell_type": "code",
   "execution_count": 10,
   "metadata": {},
   "outputs": [],
   "source": [
    "blue = make_colormap([c('#e5f1ff'), c('#83b8ff'), 0.33, c('#83b8ff'), \n",
    "                      c('#007aff'), 0.66, c('#007aff')])\n",
    "terkonfirmasi_sorted = merged.sort_values(by = ['Terkonfirmasi'], ascending = True)\n",
    "\n",
    "chloropleth(terkonfirmasi_sorted, blue, 'Terkonfirmasi', 'Terkonfirmasi'); plt.close()\n",
    "top10_plot(terkonfirmasi_sorted[-10:], 'Terkonfirmasi', '#0A84FF', '10 Provinsi dengan Terkonfirmasi Tertinggi')\n",
    "plt.close()"
   ]
  },
  {
   "cell_type": "markdown",
   "metadata": {},
   "source": [
    "## Terkonfirmasi\n",
    "<img src=\"Plot/Terkonfirmasi_choro.png\" align=\"left\" width=\"580\"/>"
   ]
  },
  {
   "cell_type": "markdown",
   "metadata": {},
   "source": [
    "<img src=\"Plot/10 Provinsi dengan Terkonfirmasi Tertinggi_bar.png\" align=\"left\" width=\"580\"/>"
   ]
  },
  {
   "cell_type": "code",
   "execution_count": 11,
   "metadata": {},
   "outputs": [],
   "source": [
    "yellow = make_colormap([c('#fff7c6'), c('#fde378'), 0.33, c('#fde378'), c('#ffcc00'), 0.66, c('#ffcc00')])\n",
    "aktif_sorted = merged.sort_values(by = ['Aktif'], ascending = True)\n",
    "\n",
    "chloropleth(aktif_sorted, yellow, 'Kasus Aktif', 'Aktif'); plt.close()\n",
    "top10_plot(aktif_sorted[-10:], 'Aktif', '#ffcc00', '10 Provinsi dengan Kasus Aktif Tertinggi')\n",
    "plt.close()"
   ]
  },
  {
   "cell_type": "markdown",
   "metadata": {},
   "source": [
    "## Aktif\n",
    "<img src=\"Plot/Aktif_choro.png\" align=\"left\" width=\"580\"/>"
   ]
  },
  {
   "cell_type": "markdown",
   "metadata": {},
   "source": [
    "<img src=\"Plot/10 Provinsi dengan Kasus Aktif Tertinggi_bar.png\" align=\"left\" width=\"580\"/>"
   ]
  },
  {
   "cell_type": "code",
   "execution_count": 12,
   "metadata": {},
   "outputs": [],
   "source": [
    "green = make_colormap([c('#c4f6cc'), c('#81e38b'), 0.33, c('#81e38b'), \n",
    "                       c('#28cd41'), 0.66, c('#28cd41')])\n",
    "sembuh_sorted = merged.sort_values(by = ['Sembuh'], ascending = True)\n",
    "\n",
    "chloropleth(sembuh_sorted, green, 'Sembuh', 'Sembuh'); plt.close()\n",
    "top10_plot(sembuh_sorted[-10:], 'Sembuh', '#28cd41', \n",
    "           '10 Provinsi dengan Tingkat Kesembuhan Tertinggi')\n",
    "plt.close()"
   ]
  },
  {
   "cell_type": "markdown",
   "metadata": {},
   "source": [
    "## Sembuh\n",
    "<img src=\"Plot/Sembuh_choro.png\" align=\"left\" width=\"580\"/>"
   ]
  },
  {
   "cell_type": "markdown",
   "metadata": {},
   "source": [
    "<img src=\"Plot/10 Provinsi dengan Tingkat Kesembuhan Tertinggi_bar.png\" align=\"left\" width=\"580\"/>"
   ]
  },
  {
   "cell_type": "code",
   "execution_count": 13,
   "metadata": {},
   "outputs": [],
   "source": [
    "red = make_colormap([c('#fddedd'), c('#ff948b'), 0.33, c('#ff948b'), \n",
    "                     c('#ff3b30'), 0.66, c('#ff3b30')])\n",
    "meninggal_sorted = merged.sort_values(by = ['Meninggal'], ascending = True)\n",
    "\n",
    "chloropleth(meninggal_sorted, red, 'Meninggal', 'Meninggal'); plt.close()\n",
    "top10_plot(meninggal_sorted[-10:], 'Meninggal', '#ff3b30', \n",
    "           '10 Provinsi dengan Tingkat Kematian Tertinggi')\n",
    "plt.close()"
   ]
  },
  {
   "cell_type": "markdown",
   "metadata": {},
   "source": [
    "## Meninggal\n",
    "<img src=\"Plot/Meninggal_choro.png\" align=\"left\" width=\"580\"/>"
   ]
  },
  {
   "cell_type": "markdown",
   "metadata": {},
   "source": [
    "<img src=\"Plot/10 Provinsi dengan Tingkat Kematian Tertinggi_bar.png\" align=\"left\" width=\"580\"/>"
   ]
  },
  {
   "cell_type": "markdown",
   "metadata": {},
   "source": [
    "## Penutup\n",
    "<p align=\"justify\">\n",
    "Berdasarkan grafik perubahan harian terkonfirmasi dan kasus aktif yang masih terus meningkat maka dapat disimpulkan bahwa pandemi ini belum berakhir hinggal 2021 mendatang. Semoga di tahun yang akan datang kita semua dapat mengatasi pandemi ini dengan lebih baik. <br/> \n",
    "</p>\n",
    "<p align=\"justify\">\n",
    "Pake masker, <i>stay safe</i>, dan jangan lupa bahagia.<br/> \n",
    "</p>\n",
    "<p align=\"justify\">\n",
    "Selamat tahun baru 2021.\n",
    "</p>"
   ]
  }
 ],
 "metadata": {
  "kernelspec": {
   "display_name": "Python 3",
   "language": "python",
   "name": "python3"
  },
  "language_info": {
   "codemirror_mode": {
    "name": "ipython",
    "version": 3
   },
   "file_extension": ".py",
   "mimetype": "text/x-python",
   "name": "python",
   "nbconvert_exporter": "python",
   "pygments_lexer": "ipython3",
   "version": "3.8.5"
  }
 },
 "nbformat": 4,
 "nbformat_minor": 4
}
